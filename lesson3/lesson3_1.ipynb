{
 "cells": [
  {
   "cell_type": "code",
   "execution_count": 1,
   "id": "f3cfc5c9",
   "metadata": {},
   "outputs": [
    {
     "name": "stdout",
     "output_type": "stream",
     "text": [
      "Hello! World!\n"
     ]
    }
   ],
   "source": [
    "print('Hello! World!')"
   ]
  },
  {
   "cell_type": "code",
   "execution_count": 3,
   "id": "5c5b5736",
   "metadata": {},
   "outputs": [
    {
     "name": "stdout",
     "output_type": "stream",
     "text": [
      "斜邊是: 5.0\n"
     ]
    }
   ],
   "source": [
    "# 讓使用者輸入直角三角形的對邊\n",
    "# 讓使用者輸入直角三角形的鄰邊\n",
    "# 計算斜邊\n",
    "\n",
    "import math\n",
    "\n",
    "side = int(input(\"請輸入對邊:\"))\n",
    "another_side = int(input(\"請輸入鄰邊:\"))\n",
    "result = math.sqrt(side ** 2 + another_side ** 2)\n",
    "\n",
    "print(\"斜邊是:\",result)\n"
   ]
  },
  {
   "cell_type": "code",
   "execution_count": 5,
   "id": "cfce6e70",
   "metadata": {},
   "outputs": [
    {
     "name": "stdout",
     "output_type": "stream",
     "text": [
      "10\n"
     ]
    }
   ],
   "source": [
    "# 複合指定運算子\n",
    "\n",
    "n = 5\n",
    "n = n + 5\n",
    "\n",
    "print(n)"
   ]
  },
  {
   "cell_type": "code",
   "execution_count": 7,
   "id": "461af16b",
   "metadata": {},
   "outputs": [
    {
     "name": "stdout",
     "output_type": "stream",
     "text": [
      "100\n"
     ]
    }
   ],
   "source": [
    "# 複合指定運算子\n",
    "\n",
    "n = 5\n",
    "n += 5\n",
    "n *= 10\n",
    "\n",
    "print(n)"
   ]
  }
 ],
 "metadata": {
  "kernelspec": {
   "display_name": "base",
   "language": "python",
   "name": "python3"
  },
  "language_info": {
   "codemirror_mode": {
    "name": "ipython",
    "version": 3
   },
   "file_extension": ".py",
   "mimetype": "text/x-python",
   "name": "python",
   "nbconvert_exporter": "python",
   "pygments_lexer": "ipython3",
   "version": "3.13.2"
  }
 },
 "nbformat": 4,
 "nbformat_minor": 5
}
