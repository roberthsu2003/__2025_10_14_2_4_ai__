{
 "cells": [
  {
   "cell_type": "markdown",
   "id": "e8ca0b14",
   "metadata": {},
   "source": [
    "## 這是次標題\n",
    "### 這是次次標題\n",
    "\n",
    "- 這是項目符號\n",
    "- 這是項目符號\n",
    "\n",
    "- 這是項目編號\n",
    "- 這是項目編號\n",
    "\n",
    "```python\n",
    "print(\"Hello! World!\")\n",
    "```"
   ]
  },
  {
   "cell_type": "code",
   "execution_count": 3,
   "id": "a3d1933a",
   "metadata": {},
   "outputs": [
    {
     "name": "stdout",
     "output_type": "stream",
     "text": [
      "我的姓名:robert\n",
      "==================================================\n"
     ]
    }
   ],
   "source": [
    "# 字串可以使用的數學運算子(+,*)\n",
    "\n",
    "print(\"我的姓名:\" + \"robert\")\n",
    "print(\"=\" * 50)"
   ]
  },
  {
   "cell_type": "code",
   "execution_count": 5,
   "id": "d3d365fd",
   "metadata": {},
   "outputs": [
    {
     "name": "stdout",
     "output_type": "stream",
     "text": [
      "我的個人資料:\n",
      "姓名:\t徐國堂\n",
      "姓別:\t男\n"
     ]
    }
   ],
   "source": [
    "# 字串的特殊符號\n",
    "# \\n -> 換行\n",
    "# \\t -> tab\n",
    "\n",
    "print(\"我的個人資料:\\n姓名:\\t徐國堂\\n姓別:\\t男\")"
   ]
  },
  {
   "cell_type": "code",
   "execution_count": 8,
   "id": "98550948",
   "metadata": {},
   "outputs": [
    {
     "name": "stdout",
     "output_type": "stream",
     "text": [
      "我的個人資料:\n",
      "姓名:   徐國堂\n",
      "性別:   男\n"
     ]
    }
   ],
   "source": [
    "# 多行文字\n",
    "info = '''我的個人資料:\n",
    "姓名:   徐國堂\n",
    "性別:   男'''\n",
    "\n",
    "print(info)"
   ]
  }
 ],
 "metadata": {
  "kernelspec": {
   "display_name": "base",
   "language": "python",
   "name": "python3"
  },
  "language_info": {
   "codemirror_mode": {
    "name": "ipython",
    "version": 3
   },
   "file_extension": ".py",
   "mimetype": "text/x-python",
   "name": "python",
   "nbconvert_exporter": "python",
   "pygments_lexer": "ipython3",
   "version": "3.13.2"
  }
 },
 "nbformat": 4,
 "nbformat_minor": 5
}
