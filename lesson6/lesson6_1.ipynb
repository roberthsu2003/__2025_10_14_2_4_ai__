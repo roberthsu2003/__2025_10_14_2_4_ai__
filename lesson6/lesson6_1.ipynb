{
 "cells": [
  {
   "cell_type": "code",
   "execution_count": 10,
   "id": "9a6efb94",
   "metadata": {},
   "outputs": [
    {
     "name": "stdout",
     "output_type": "stream",
     "text": [
      "70\n",
      "=============猜數字遊戲===================:\n",
      "\n",
      "輸入的值是:50\n",
      "在範圍內\n",
      "輸入的值是:50\n",
      "在範圍內\n",
      "輸入的值是:98\n",
      "在範圍內\n",
      "不範圍內\n",
      "遊戲結束\n"
     ]
    }
   ],
   "source": [
    "# 猜數字遊戲\n",
    "\n",
    "import random\n",
    "\n",
    "min = 1\n",
    "max = 100\n",
    "target = random.randint(min,max)\n",
    "print(target)\n",
    "print(\"=============猜數字遊戲===================:\\n\")\n",
    "\n",
    "while(True):\n",
    "    keyin = int(input(f\"猜數字範圍{min}~{max}:\"))\n",
    "    if keyin >= min and keyin <= max:\n",
    "        print(f\"輸入的值是:{keyin}\")\n",
    "        print(\"在範圍內\")\n",
    "    else:\n",
    "        print(\"不範圍內\")\n",
    "        break\n",
    "\n",
    "print(\"遊戲結束\")\n"
   ]
  }
 ],
 "metadata": {
  "kernelspec": {
   "display_name": "base",
   "language": "python",
   "name": "python3"
  },
  "language_info": {
   "codemirror_mode": {
    "name": "ipython",
    "version": 3
   },
   "file_extension": ".py",
   "mimetype": "text/x-python",
   "name": "python",
   "nbconvert_exporter": "python",
   "pygments_lexer": "ipython3",
   "version": "3.13.2"
  }
 },
 "nbformat": 4,
 "nbformat_minor": 5
}
