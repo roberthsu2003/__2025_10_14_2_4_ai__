{
 "cells": [
  {
   "cell_type": "code",
   "execution_count": 2,
   "id": "05b31802",
   "metadata": {},
   "outputs": [
    {
     "name": "stdout",
     "output_type": "stream",
     "text": [
      "不可以考駕照!\n"
     ]
    }
   ],
   "source": [
    "age = int(input(\"請輸入age:\"))\n",
    "\n",
    "if age >= 18:\n",
    "    print(\"可以考駕照!\")\n",
    "else:\n",
    "    print(\"不可以考駕照!\")"
   ]
  },
  {
   "cell_type": "code",
   "execution_count": 11,
   "id": "f9ae1a94",
   "metadata": {},
   "outputs": [
    {
     "name": "stdout",
     "output_type": "stream",
     "text": [
      "262\n"
     ]
    }
   ],
   "source": [
    "# 學生總分為300\n",
    "# 有些學生可以加分5%\n",
    "# 如果加分超過300,就以300分為準\n",
    "\n",
    "scores = int(input(\"請輸入學生分數(最高300分):\"))\n",
    "is_add = input(\"學生是否符合加分條件?(y,n)\")\n",
    "\n",
    "if(is_add == 'y'): # 單項選擇\n",
    "    scores *= 1.05\n",
    "    if scores > 300: # 利用巢狀判斷增加條件\n",
    "        scores = 300\n",
    "\n",
    "# print(int(scores)) # 移除小數點\n",
    "print(round(scores)) # 4捨5入\n",
    "#print(round(scores, ndigits=2))"
   ]
  },
  {
   "cell_type": "code",
   "execution_count": null,
   "id": "a61f09e9",
   "metadata": {},
   "outputs": [
    {
     "name": "stdout",
     "output_type": "stream",
     "text": [
      "出現錯誤\n"
     ]
    }
   ],
   "source": [
    "#try...except\n",
    "try:\n",
    "    money = int(input(\"請輸入金額:\"))\n",
    "    print(money)\n",
    "except:\n",
    "    print(\"出現錯誤\")"
   ]
  }
 ],
 "metadata": {
  "kernelspec": {
   "display_name": "base",
   "language": "python",
   "name": "python3"
  },
  "language_info": {
   "codemirror_mode": {
    "name": "ipython",
    "version": 3
   },
   "file_extension": ".py",
   "mimetype": "text/x-python",
   "name": "python",
   "nbconvert_exporter": "python",
   "pygments_lexer": "ipython3",
   "version": "3.13.2"
  }
 },
 "nbformat": 4,
 "nbformat_minor": 5
}
