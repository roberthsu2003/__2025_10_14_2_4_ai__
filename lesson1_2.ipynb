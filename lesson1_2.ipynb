{
  "nbformat": 4,
  "nbformat_minor": 0,
  "metadata": {
    "colab": {
      "provenance": [],
      "authorship_tag": "ABX9TyMT19NTeiReE5bGue5BX/SO",
      "include_colab_link": true
    },
    "kernelspec": {
      "name": "python3",
      "display_name": "Python 3"
    },
    "language_info": {
      "name": "python"
    }
  },
  "cells": [
    {
      "cell_type": "markdown",
      "metadata": {
        "id": "view-in-github",
        "colab_type": "text"
      },
      "source": [
        "<a href=\"https://colab.research.google.com/github/roberthsu2003/__2025_10_14_2_4_ai__/blob/main/lesson1_2.ipynb\" target=\"_parent\"><img src=\"https://colab.research.google.com/assets/colab-badge.svg\" alt=\"Open In Colab\"/></a>"
      ]
    },
    {
      "cell_type": "code",
      "execution_count": 2,
      "metadata": {
        "id": "2nf1Hbcr7n4i",
        "colab": {
          "base_uri": "https://localhost:8080/"
        },
        "outputId": "ca0b9a57-619d-4f8c-e38d-465ac18adbe5"
      },
      "outputs": [
        {
          "output_type": "execute_result",
          "data": {
            "text/plain": [
              "4"
            ]
          },
          "metadata": {},
          "execution_count": 2
        }
      ],
      "source": [
        "#無沒意義的寫法\n",
        "5 + 5\n",
        "8 * 9\n",
        "9 // 2"
      ]
    },
    {
      "cell_type": "code",
      "source": [
        "value1 = 5 + 5\n",
        "value2 = value1 * 2\n",
        "value3 = value1 * value2\n",
        "print(value3)"
      ],
      "metadata": {
        "id": "tjebKYjR9BeY",
        "outputId": "21b84035-978b-4298-c8eb-acdc353727b5",
        "colab": {
          "base_uri": "https://localhost:8080/"
        }
      },
      "execution_count": 5,
      "outputs": [
        {
          "output_type": "stream",
          "name": "stdout",
          "text": [
            "200\n"
          ]
        }
      ]
    }
  ]
}