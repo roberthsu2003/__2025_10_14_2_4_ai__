{
 "cells": [
  {
   "cell_type": "code",
   "execution_count": 1,
   "id": "10db1dfc",
   "metadata": {},
   "outputs": [
    {
     "data": {
      "text/plain": [
       "55"
      ]
     },
     "execution_count": 1,
     "metadata": {},
     "output_type": "execute_result"
    }
   ],
   "source": [
    "total = 0\n",
    "total += 1\n",
    "total += 2\n",
    "total += 3\n",
    "total += 4\n",
    "total += 5\n",
    "total += 6\n",
    "total += 7\n",
    "total += 8\n",
    "total += 9\n",
    "total += 10\n",
    "\n",
    "total"
   ]
  },
  {
   "cell_type": "code",
   "execution_count": 8,
   "id": "febf5c88",
   "metadata": {},
   "outputs": [
    {
     "data": {
      "text/plain": [
       "55"
      ]
     },
     "execution_count": 8,
     "metadata": {},
     "output_type": "execute_result"
    }
   ],
   "source": [
    "total = 0\n",
    "for n in range(1,11):\n",
    "    total += n\n",
    "\n",
    "total"
   ]
  },
  {
   "cell_type": "code",
   "execution_count": null,
   "id": "a3f0ff88",
   "metadata": {},
   "outputs": [
    {
     "data": {
      "text/plain": [
       "[1, 3, 5, 7, 9]"
      ]
     },
     "execution_count": 10,
     "metadata": {},
     "output_type": "execute_result"
    }
   ],
   "source": [
    "# 使用說明\n",
    "\n",
    "list(range(10))\n",
    "list(range(1,11))\n",
    "list(range(1,11,2))"
   ]
  },
  {
   "cell_type": "code",
   "execution_count": 15,
   "id": "e8db9e3d",
   "metadata": {},
   "outputs": [
    {
     "name": "stdout",
     "output_type": "stream",
     "text": [
      "i=1\n",
      "j=1  j=2  j=3  j=4  j=5  j=6  j=7  j=8  j=9  \n",
      "==================================================\n",
      "i=2\n",
      "j=1  j=2  j=3  j=4  j=5  j=6  j=7  j=8  j=9  \n",
      "==================================================\n",
      "i=3\n",
      "j=1  j=2  j=3  j=4  j=5  j=6  j=7  j=8  j=9  \n",
      "==================================================\n",
      "i=4\n",
      "j=1  j=2  j=3  j=4  j=5  j=6  j=7  j=8  j=9  \n",
      "==================================================\n",
      "i=5\n",
      "j=1  j=2  j=3  j=4  j=5  j=6  j=7  j=8  j=9  \n",
      "==================================================\n",
      "i=6\n",
      "j=1  j=2  j=3  j=4  j=5  j=6  j=7  j=8  j=9  \n",
      "==================================================\n",
      "i=7\n",
      "j=1  j=2  j=3  j=4  j=5  j=6  j=7  j=8  j=9  \n",
      "==================================================\n",
      "i=8\n",
      "j=1  j=2  j=3  j=4  j=5  j=6  j=7  j=8  j=9  \n",
      "==================================================\n",
      "i=9\n",
      "j=1  j=2  j=3  j=4  j=5  j=6  j=7  j=8  j=9  \n",
      "==================================================\n"
     ]
    }
   ],
   "source": [
    "# 巢狀迴圈\n",
    "\n",
    "for i in range(1,10):\n",
    "    print(f\"i={i}\")\n",
    "    for j in range(1,10):\n",
    "        print(f\"j={j} \",end=\" \")\n",
    "    print()\n",
    "    print(\"=\" * 50)"
   ]
  }
 ],
 "metadata": {
  "kernelspec": {
   "display_name": "base",
   "language": "python",
   "name": "python3"
  },
  "language_info": {
   "codemirror_mode": {
    "name": "ipython",
    "version": 3
   },
   "file_extension": ".py",
   "mimetype": "text/x-python",
   "name": "python",
   "nbconvert_exporter": "python",
   "pygments_lexer": "ipython3",
   "version": "3.13.2"
  }
 },
 "nbformat": 4,
 "nbformat_minor": 5
}
