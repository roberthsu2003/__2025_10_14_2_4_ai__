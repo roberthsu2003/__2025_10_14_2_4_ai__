{
  "nbformat": 4,
  "nbformat_minor": 0,
  "metadata": {
    "colab": {
      "provenance": [],
      "authorship_tag": "ABX9TyMdfVuAdkzgeWbRqn5EO2jQ",
      "include_colab_link": true
    },
    "kernelspec": {
      "name": "python3",
      "display_name": "Python 3"
    },
    "language_info": {
      "name": "python"
    }
  },
  "cells": [
    {
      "cell_type": "markdown",
      "metadata": {
        "id": "view-in-github",
        "colab_type": "text"
      },
      "source": [
        "<a href=\"https://colab.research.google.com/github/roberthsu2003/__2025_10_14_2_4_ai__/blob/main/lesson1_1.ipynb\" target=\"_parent\"><img src=\"https://colab.research.google.com/assets/colab-badge.svg\" alt=\"Open In Colab\"/></a>"
      ]
    },
    {
      "cell_type": "markdown",
      "source": [
        "python第1節上課\n",
        "\n",
        "*   print()使用\n",
        "\n"
      ],
      "metadata": {
        "id": "50wsPw2Yjtw3"
      }
    },
    {
      "cell_type": "code",
      "source": [
        "print(\"Hello! Python!\")\n",
        "print(\"這是ai的課程\")\n",
        "print(\"這是第1節上課!\")"
      ],
      "metadata": {
        "colab": {
          "base_uri": "https://localhost:8080/"
        },
        "id": "o1e5aZ5tkRxr",
        "outputId": "ccaed36b-2d49-4b0e-95d1-85e411ccb8dc"
      },
      "execution_count": 1,
      "outputs": [
        {
          "output_type": "stream",
          "name": "stdout",
          "text": [
            "Hello! Python!\n",
            "這是ai的課程\n",
            "這是第1節上課!\n"
          ]
        }
      ]
    },
    {
      "cell_type": "code",
      "source": [
        "#整數(int)\n",
        "5"
      ],
      "metadata": {
        "id": "jSVGlrtZqSfm",
        "outputId": "e9368d91-c2be-450c-991b-8dda70936afe",
        "colab": {
          "base_uri": "https://localhost:8080/"
        }
      },
      "execution_count": 2,
      "outputs": [
        {
          "output_type": "execute_result",
          "data": {
            "text/plain": [
              "5"
            ]
          },
          "metadata": {},
          "execution_count": 2
        }
      ]
    },
    {
      "cell_type": "code",
      "source": [
        "#浮點數(float)\n",
        "5.0"
      ],
      "metadata": {
        "id": "m50a8oTJq2e3",
        "outputId": "b11d1b1a-1647-4141-ffd2-b92fbd80adf8",
        "colab": {
          "base_uri": "https://localhost:8080/"
        }
      },
      "execution_count": 3,
      "outputs": [
        {
          "output_type": "execute_result",
          "data": {
            "text/plain": [
              "5.0"
            ]
          },
          "metadata": {},
          "execution_count": 3
        }
      ]
    },
    {
      "cell_type": "code",
      "source": [
        "#字串(str)\n",
        "\"5\""
      ],
      "metadata": {
        "id": "aAFmIRzfrGAB",
        "outputId": "2bbb66cf-eb00-4f7d-9a87-46a86df57719",
        "colab": {
          "base_uri": "https://localhost:8080/",
          "height": 35
        }
      },
      "execution_count": 4,
      "outputs": [
        {
          "output_type": "execute_result",
          "data": {
            "text/plain": [
              "'5'"
            ],
            "application/vnd.google.colaboratory.intrinsic+json": {
              "type": "string"
            }
          },
          "metadata": {},
          "execution_count": 4
        }
      ]
    },
    {
      "cell_type": "code",
      "source": [
        "#字串(str)\n",
        "'5.0'"
      ],
      "metadata": {
        "id": "qQHmTWOdrkgp",
        "outputId": "96d04a87-dfca-4b69-91cd-c73340404679",
        "colab": {
          "base_uri": "https://localhost:8080/",
          "height": 35
        }
      },
      "execution_count": 5,
      "outputs": [
        {
          "output_type": "execute_result",
          "data": {
            "text/plain": [
              "'5.0'"
            ],
            "application/vnd.google.colaboratory.intrinsic+json": {
              "type": "string"
            }
          },
          "metadata": {},
          "execution_count": 5
        }
      ]
    }
  ]
}