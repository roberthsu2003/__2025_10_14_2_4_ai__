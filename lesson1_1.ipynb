{
  "nbformat": 4,
  "nbformat_minor": 0,
  "metadata": {
    "colab": {
      "provenance": [],
      "authorship_tag": "ABX9TyNGzh/Txj5Dne0DoYN43/0b",
      "include_colab_link": true
    },
    "kernelspec": {
      "name": "python3",
      "display_name": "Python 3"
    },
    "language_info": {
      "name": "python"
    }
  },
  "cells": [
    {
      "cell_type": "markdown",
      "metadata": {
        "id": "view-in-github",
        "colab_type": "text"
      },
      "source": [
        "<a href=\"https://colab.research.google.com/github/roberthsu2003/__2025_10_14_2_4_ai__/blob/main/lesson1_1.ipynb\" target=\"_parent\"><img src=\"https://colab.research.google.com/assets/colab-badge.svg\" alt=\"Open In Colab\"/></a>"
      ]
    },
    {
      "cell_type": "markdown",
      "source": [
        "python第1節上課\n",
        "\n",
        "*   print()使用\n",
        "\n"
      ],
      "metadata": {
        "id": "50wsPw2Yjtw3"
      }
    },
    {
      "cell_type": "code",
      "source": [
        "print(\"Hello! Python!\")\n",
        "print(\"這是ai的課程\")\n",
        "print(\"這是第1節上課!\")"
      ],
      "metadata": {
        "colab": {
          "base_uri": "https://localhost:8080/"
        },
        "id": "o1e5aZ5tkRxr",
        "outputId": "ccaed36b-2d49-4b0e-95d1-85e411ccb8dc"
      },
      "execution_count": 1,
      "outputs": [
        {
          "output_type": "stream",
          "name": "stdout",
          "text": [
            "Hello! Python!\n",
            "這是ai的課程\n",
            "這是第1節上課!\n"
          ]
        }
      ]
    }
  ]
}