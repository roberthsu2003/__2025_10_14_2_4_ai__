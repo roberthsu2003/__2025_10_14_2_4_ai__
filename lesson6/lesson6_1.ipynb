{
 "cells": [
  {
   "cell_type": "code",
   "execution_count": 13,
   "id": "9a6efb94",
   "metadata": {},
   "outputs": [
    {
     "name": "stdout",
     "output_type": "stream",
     "text": [
      "=============猜數字遊戲===================:\n",
      "\n",
      "再小一點\n",
      "你已經猜了1次\n",
      "再大一點\n",
      "你已經猜了2次\n",
      "再大一點\n",
      "你已經猜了3次\n",
      "再小一點\n",
      "你已經猜了4次\n",
      "再大一點\n",
      "你已經猜了5次\n",
      "再小一點\n",
      "你已經猜了6次\n",
      "賓果!猜對了, 答案是:40\n",
      "您共猜了7次\n",
      "遊戲結束\n"
     ]
    }
   ],
   "source": [
    "# 猜數字遊戲\n",
    "\n",
    "import random\n",
    "\n",
    "min = 1\n",
    "max = 100\n",
    "count = 0\n",
    "target = random.randint(min,max)\n",
    "print(\"=============猜數字遊戲===================:\\n\")\n",
    "\n",
    "while(True):\n",
    "    count += 1\n",
    "    keyin = int(input(f\"猜數字範圍{min}~{max}:\"))\n",
    "    if keyin >= min and keyin <= max:\n",
    "        if keyin == target:\n",
    "            print(f\"賓果!猜對了, 答案是:{target}\")\n",
    "            print(f\"您共猜了{count}次\")\n",
    "            break\n",
    "        elif keyin > target:\n",
    "            print(\"再小一點\")\n",
    "            max = keyin - 1            \n",
    "        elif keyin < target:\n",
    "            print(\"再大一點\")\n",
    "            min = keyin + 1            \n",
    "        print(f\"你已經猜了{count}次\")\n",
    "    else:\n",
    "        print(\"不範圍內\")\n",
    "    \n",
    "\n",
    "print(\"遊戲結束\")\n"
   ]
  }
 ],
 "metadata": {
  "kernelspec": {
   "display_name": "base",
   "language": "python",
   "name": "python3"
  },
  "language_info": {
   "codemirror_mode": {
    "name": "ipython",
    "version": 3
   },
   "file_extension": ".py",
   "mimetype": "text/x-python",
   "name": "python",
   "nbconvert_exporter": "python",
   "pygments_lexer": "ipython3",
   "version": "3.13.2"
  }
 },
 "nbformat": 4,
 "nbformat_minor": 5
}
