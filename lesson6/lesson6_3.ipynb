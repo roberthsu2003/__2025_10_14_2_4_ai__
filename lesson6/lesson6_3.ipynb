{
 "cells": [
  {
   "cell_type": "code",
   "execution_count": 2,
   "id": "8a039b52",
   "metadata": {},
   "outputs": [],
   "source": [
    "def menu(wine, entree, dessert):\n",
    "    print(f\"酒類:{wine}\")\n",
    "    print(f\"主食:{entree}\")\n",
    "    print(f\"甜點:{dessert}\")"
   ]
  },
  {
   "cell_type": "code",
   "execution_count": 3,
   "id": "7e9ae980",
   "metadata": {},
   "outputs": [
    {
     "name": "stdout",
     "output_type": "stream",
     "text": [
      "酒類:白酒\n",
      "主食:牛排\n",
      "甜點:蛋糕\n"
     ]
    }
   ],
   "source": [
    "# 引數位置\n",
    "# 依照參數的順序\n",
    "\n",
    "menu('白酒','牛排','蛋糕')"
   ]
  },
  {
   "cell_type": "code",
   "execution_count": null,
   "id": "8ddaab4f",
   "metadata": {},
   "outputs": [
    {
     "name": "stdout",
     "output_type": "stream",
     "text": [
      "酒類:白酒\n",
      "主食:牛排\n",
      "甜點:蛋糕\n"
     ]
    }
   ],
   "source": [
    "# 引數名稱呼叫\n",
    "# 可以不依照順序\n",
    "menu(entree='牛排', dessert='蛋糕',wine='白酒')\n"
   ]
  },
  {
   "cell_type": "code",
   "execution_count": 6,
   "id": "a53a0e3d",
   "metadata": {},
   "outputs": [
    {
     "name": "stdout",
     "output_type": "stream",
     "text": [
      "酒類:白酒\n",
      "主食:牛排\n",
      "甜點:蛋糕\n"
     ]
    }
   ],
   "source": [
    "# 混合呼叫\n",
    "# 前面必需是引數位置呼叫\n",
    "# 後面是引數名稱呼叫\n",
    "# 使用引數名稱呼叫後,後面全部都要使用引數名稱呼叫\n",
    "\n",
    "menu('白酒',dessert='蛋糕',entree='牛排')"
   ]
  },
  {
   "cell_type": "code",
   "execution_count": 8,
   "id": "f03c6d01",
   "metadata": {},
   "outputs": [],
   "source": [
    "#參數有default值\n",
    "#必需放在最後面\n",
    "\n",
    "def menu(wine, entree, dessert='奶昔'):\n",
    "    print(f\"酒類:{wine}\")\n",
    "    print(f\"主食:{entree}\")\n",
    "    print(f\"甜點:{dessert}\")\n"
   ]
  },
  {
   "cell_type": "code",
   "execution_count": 9,
   "id": "cc66f2dc",
   "metadata": {},
   "outputs": [
    {
     "name": "stdout",
     "output_type": "stream",
     "text": [
      "酒類:白酒\n",
      "主食:牛排\n",
      "甜點:奶昔\n"
     ]
    }
   ],
   "source": [
    "menu('白酒','牛排')"
   ]
  },
  {
   "cell_type": "code",
   "execution_count": 11,
   "id": "4edc8c38",
   "metadata": {},
   "outputs": [
    {
     "name": "stdout",
     "output_type": "stream",
     "text": [
      "酒類:白酒\n",
      "主食:牛排\n",
      "甜點:蛋糕\n"
     ]
    }
   ],
   "source": [
    "menu('白酒','牛排',dessert='蛋糕')"
   ]
  },
  {
   "cell_type": "code",
   "execution_count": 13,
   "id": "dc6509e3",
   "metadata": {},
   "outputs": [
    {
     "name": "stdout",
     "output_type": "stream",
     "text": [
      "()\n",
      "=========\n",
      "(1, 2, 3, 'a', 'b', True)\n",
      "=========\n"
     ]
    }
   ],
   "source": [
    "#有*的參數使用\n",
    "#呼叫時沒有限定引數位置呼叫的數量\n",
    "def print_args(*args):\n",
    "    print(args)\n",
    "    print(\"=========\")\n",
    "\n",
    "print_args()\n",
    "print_args(1, 2, 3, 'a', 'b',True)"
   ]
  },
  {
   "cell_type": "code",
   "execution_count": 15,
   "id": "ea047b85",
   "metadata": {},
   "outputs": [
    {
     "name": "stdout",
     "output_type": "stream",
     "text": [
      "{'one': 1, 'two': 2, 'three': 3, 'four': 4, 'five': 5}\n",
      "============\n",
      "{}\n",
      "============\n"
     ]
    }
   ],
   "source": [
    "#有**的參數\n",
    "#沒有限定數量的引數名稱呼叫\n",
    "\n",
    "def print_kwargs(**kwargs):\n",
    "    print(kwargs)\n",
    "    print(\"============\")\n",
    "\n",
    "print_kwargs(one=1, two=2, three=3, four=4, five=5)\n",
    "print_kwargs()\n"
   ]
  }
 ],
 "metadata": {
  "kernelspec": {
   "display_name": "base",
   "language": "python",
   "name": "python3"
  },
  "language_info": {
   "codemirror_mode": {
    "name": "ipython",
    "version": 3
   },
   "file_extension": ".py",
   "mimetype": "text/x-python",
   "name": "python",
   "nbconvert_exporter": "python",
   "pygments_lexer": "ipython3",
   "version": "3.13.2"
  }
 },
 "nbformat": 4,
 "nbformat_minor": 5
}
