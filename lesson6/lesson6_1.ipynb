{
 "cells": [
  {
   "cell_type": "code",
   "execution_count": null,
   "id": "9a6efb94",
   "metadata": {},
   "outputs": [],
   "source": [
    "# 猜數字遊戲\n",
    "\n"
   ]
  }
 ],
 "metadata": {
  "kernelspec": {
   "display_name": "base",
   "language": "python",
   "name": "python3"
  },
  "language_info": {
   "name": "python",
   "version": "3.13.2"
  }
 },
 "nbformat": 4,
 "nbformat_minor": 5
}
