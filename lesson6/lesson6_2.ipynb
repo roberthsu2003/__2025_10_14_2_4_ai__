{
 "cells": [
  {
   "cell_type": "code",
   "execution_count": null,
   "id": "a30a4604",
   "metadata": {},
   "outputs": [
    {
     "name": "stdout",
     "output_type": "stream",
     "text": [
      "Hello!\n"
     ]
    }
   ],
   "source": [
    "# 沒有參數,沒有傳出值的function\n",
    "def sayHello():\n",
    "    print(\"Hello!\")\n",
    "\n",
    "sayHello()\n"
   ]
  },
  {
   "cell_type": "code",
   "execution_count": 4,
   "id": "ca63e93d",
   "metadata": {},
   "outputs": [
    {
     "name": "stdout",
     "output_type": "stream",
     "text": [
      "您好!徐國堂!\n"
     ]
    }
   ],
   "source": [
    "def sayHello(name): #1個參數,沒有傳出值\n",
    "    print(f\"您好!{name}!\")\n",
    "\n",
    "sayHello(\"徐國堂\")"
   ]
  },
  {
   "cell_type": "code",
   "execution_count": 6,
   "id": "a21d2917",
   "metadata": {},
   "outputs": [
    {
     "name": "stdout",
     "output_type": "stream",
     "text": [
      "您好!徐國堂!\n"
     ]
    }
   ],
   "source": [
    "def sayHello(name): #1個參數,有傳出值\n",
    "    return f\"您好!{name}!\"\n",
    "\n",
    "print(sayHello(\"徐國堂\"))"
   ]
  },
  {
   "cell_type": "code",
   "execution_count": 7,
   "id": "9e943d4b",
   "metadata": {},
   "outputs": [
    {
     "name": "stdout",
     "output_type": "stream",
     "text": [
      "====BMI計算=======\n",
      "\n",
      "您的BMI是25.25\n",
      "過重\n"
     ]
    }
   ],
   "source": [
    "def get_bmi(w,h): #2個參數,傳出1個值\n",
    "    bmi = w / (h/100) ** 2\n",
    "    return bmi\n",
    "\n",
    "def bmi_status(bmi): #1個參數,傳出1個值\n",
    "    if bmi<18.5:\n",
    "        message = \"體重過輕\"\n",
    "    elif bmi<24:\n",
    "        message = \"正常範圍\"\n",
    "    elif bmi<27:\n",
    "        message = \"過重\"\n",
    "    elif bmi<30:\n",
    "        message = \"輕度肥胖\"\n",
    "    elif bmi<35:\n",
    "        message = \"中度肥胖\"\n",
    "    else:\n",
    "        message = \"重度肥胖\"\n",
    "    \n",
    "    return message\n",
    "\n",
    "\n",
    "# 計算BMI\n",
    "print(\"====BMI計算=======\\n\")\n",
    "height = int(input(\"請輸入身高(cm):\"))\n",
    "weight = int(input(\"請輸入體重(kg):\"))\n",
    "bmi = get_bmi(weight, height)\n",
    "print(f\"您的BMI是{round(bmi,ndigits=2)}\")\n",
    "status = bmi_status(bmi)\n",
    "print(status)\n",
    "\n"
   ]
  }
 ],
 "metadata": {
  "kernelspec": {
   "display_name": "base",
   "language": "python",
   "name": "python3"
  },
  "language_info": {
   "codemirror_mode": {
    "name": "ipython",
    "version": 3
   },
   "file_extension": ".py",
   "mimetype": "text/x-python",
   "name": "python",
   "nbconvert_exporter": "python",
   "pygments_lexer": "ipython3",
   "version": "3.13.2"
  }
 },
 "nbformat": 4,
 "nbformat_minor": 5
}
