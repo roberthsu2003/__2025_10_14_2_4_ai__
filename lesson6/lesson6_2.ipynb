{
 "cells": [
  {
   "cell_type": "code",
   "execution_count": null,
   "id": "a30a4604",
   "metadata": {},
   "outputs": [
    {
     "name": "stdout",
     "output_type": "stream",
     "text": [
      "Hello!\n"
     ]
    }
   ],
   "source": [
    "# 沒有參數,沒有傳出值的function\n",
    "def sayHello():\n",
    "    print(\"Hello!\")\n",
    "\n",
    "sayHello()\n"
   ]
  },
  {
   "cell_type": "code",
   "execution_count": 4,
   "id": "ca63e93d",
   "metadata": {},
   "outputs": [
    {
     "name": "stdout",
     "output_type": "stream",
     "text": [
      "您好!徐國堂!\n"
     ]
    }
   ],
   "source": [
    "def sayHello(name): #1個參數,沒有傳出值\n",
    "    print(f\"您好!{name}!\")\n",
    "\n",
    "sayHello(\"徐國堂\")"
   ]
  }
 ],
 "metadata": {
  "kernelspec": {
   "display_name": "base",
   "language": "python",
   "name": "python3"
  },
  "language_info": {
   "codemirror_mode": {
    "name": "ipython",
    "version": 3
   },
   "file_extension": ".py",
   "mimetype": "text/x-python",
   "name": "python",
   "nbconvert_exporter": "python",
   "pygments_lexer": "ipython3",
   "version": "3.13.2"
  }
 },
 "nbformat": 4,
 "nbformat_minor": 5
}
