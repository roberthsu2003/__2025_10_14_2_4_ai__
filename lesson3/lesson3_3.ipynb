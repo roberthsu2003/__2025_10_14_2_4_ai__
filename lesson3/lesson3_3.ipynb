{
 "cells": [
  {
   "cell_type": "code",
   "execution_count": 5,
   "id": "5446a9e1",
   "metadata": {},
   "outputs": [
    {
     "name": "stdout",
     "output_type": "stream",
     "text": [
      "我有水果10個,蘋果:7顆,香蕉:3根\n"
     ]
    }
   ],
   "source": [
    "# 全部都在root區,所以每個敘述都會執行\n",
    "fruits = 10\n",
    "apple = 7\n",
    "banana = 3\n",
    "\n",
    "result = f\"我有水果{fruits}個,蘋果:{apple}顆,香蕉:{banana}根\"\n",
    "\n",
    "print(result)"
   ]
  },
  {
   "cell_type": "code",
   "execution_count": null,
   "id": "06357def",
   "metadata": {},
   "outputs": [
    {
     "name": "stdout",
     "output_type": "stream",
     "text": [
      "未到法定age\n",
      "不可以考駕照\n"
     ]
    }
   ],
   "source": [
    "#流程控制的判斷\n",
    "#判斷讓執行的程式敘述不一樣(就是有智慧)\n",
    "\n",
    "age = int(input(\"請輸入age:\"))\n",
    "\n",
    "if age >= 18:\n",
    "    print(\"我滿18\")\n",
    "    print(\"我可以考駕照\")\n",
    "else:\n",
    "    print(\"未到法定age\")\n",
    "    print(\"不可以考駕照\")"
   ]
  }
 ],
 "metadata": {
  "kernelspec": {
   "display_name": "base",
   "language": "python",
   "name": "python3"
  },
  "language_info": {
   "codemirror_mode": {
    "name": "ipython",
    "version": 3
   },
   "file_extension": ".py",
   "mimetype": "text/x-python",
   "name": "python",
   "nbconvert_exporter": "python",
   "pygments_lexer": "ipython3",
   "version": "3.13.2"
  }
 },
 "nbformat": 4,
 "nbformat_minor": 5
}
